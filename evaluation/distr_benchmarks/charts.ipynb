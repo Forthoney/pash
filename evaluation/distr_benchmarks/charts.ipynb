{
 "cells": [
  {
   "cell_type": "code",
   "execution_count": 6,
   "id": "8e91f4c1",
   "metadata": {},
   "outputs": [],
   "source": [
    "import matplotlib.pyplot as plt\n",
    "import numpy as np\n",
    "import pandas as pd\n",
    "import seaborn as sns"
   ]
  },
  {
   "cell_type": "code",
   "execution_count": 3,
   "id": "e0a18630",
   "metadata": {},
   "outputs": [
    {
     "name": "stdout",
     "output_type": "stream",
     "text": [
      "File 'history.txt' exists. Overwrite? n\n",
      "Aborting.\n"
     ]
    }
   ],
   "source": [
    "!pip3 install matplotlib pandas seaborn"
   ]
  },
  {
   "cell_type": "code",
   "execution_count": 7,
   "id": "c55f648a",
   "metadata": {},
   "outputs": [],
   "source": [
    "def set_style():\n",
    "    # This sets reasonable defaults for font size for\n",
    "    # a figure that will go in a paper\n",
    "    sns.set_context(\"paper\")\n",
    "    \n",
    "    sns.set(rc={'figure.figsize':(11.7, 5.27)})\n",
    "    \n",
    "    # Set the font to be serif, rather than sans\n",
    "    sns.set(font='serif')\n",
    "    \n",
    "    # Make the background white, and specify the\n",
    "    # specific font family\n",
    "    sns.set_style(\"white\", {\n",
    "        \"font.family\": \"serif\",\n",
    "        \"font.serif\": [\"Times\", \"Palatino\", \"serif\"]\n",
    "    })\n",
    "    \n",
    "    sns.set_theme(style=\"ticks\", palette=\"pastel\")\n",
    "    \n",
    "\n",
    "set_style()"
   ]
  },
  {
   "cell_type": "code",
   "execution_count": 19,
   "id": "292f042e",
   "metadata": {},
   "outputs": [],
   "source": [
    "def parse_res(file, benchmark=\"not_provided\"):\n",
    "    try:\n",
    "        with open(file, 'r') as f:\n",
    "            lines = f.read().split(\"\\n\")\n",
    "    except:\n",
    "        print(f\"{file} not found\")\n",
    "        return pd.DataFrame()\n",
    "        \n",
    "    data = []\n",
    "    for line in lines[1:]:\n",
    "        if line:\n",
    "            try:\n",
    "                script, time = line.split()\n",
    "                if float(time) == 0.0:\n",
    "                    raise Exception()\n",
    "                sname = script.replace(\".sh:\", \"\")\n",
    "                data.append([f\"{sname}_{benchmark}\", sname, float(time)])\n",
    "            except:\n",
    "                print(f\"Skipping {line}\")\n",
    "    \n",
    "    df = pd.DataFrame(data, columns=[\"uid\", \"benchname\", \"exec_time\"])\n",
    "    df = df.set_index(\"uid\")\n",
    "    return df"
   ]
  },
  {
   "cell_type": "code",
   "execution_count": 36,
   "id": "47657510",
   "metadata": {},
   "outputs": [],
   "source": [
    "folder = 'original_config'\n",
    "\n",
    "def average_dfs(dfs):\n",
    "    df = pd.concat(dfs)\n",
    "    df = df.groupby('bench_name').mean()\n",
    "    return df\n",
    "\n",
    "def get_summary_per_mode(benchmarks, modes):\n",
    "    # Returns a list of lists where each sublist contains all modes results for a benchmarks\n",
    "    all_benchs = []\n",
    "    for benchmark in benchmarks:\n",
    "        dfs = {}\n",
    "        for mode in modes:\n",
    "            df = parse_res(f'{folder}/{benchmark}/{mode}.res', benchmark)\n",
    "            dfs[mode] = df\n",
    "        all_benchs.append((benchmark, dfs))\n",
    "        \n",
    "    summary_per_mode = {}\n",
    "    for mode in modes:\n",
    "        summary = []\n",
    "        for benchmark, dfs in all_benchs:\n",
    "            dfs[mode]['benchmark'] = benchmark\n",
    "            summary.append(dfs[mode])\n",
    "\n",
    "        new_df = pd.concat(summary, axis = 0)\n",
    "        new_df['mode'] = mode\n",
    "        summary_per_mode[mode] = new_df\n",
    "    return summary_per_mode\n",
    "\n",
    "def get_speedup_df(summary_per_mode):\n",
    "    dfs = []\n",
    "    for mode in summary_per_mode:\n",
    "        if mode == 'seq':\n",
    "            continue\n",
    "        summary_per_mode[mode]['speedup'] = summary_per_mode['seq']['exec_time']/summary_per_mode[mode]['exec_time']\n",
    "        summary_per_mode[mode].dropna()\n",
    "        dfs.append(summary_per_mode[mode])\n",
    "    summary_df = pd.concat(dfs, axis = 0)\n",
    "    return summary_df\n",
    "\n",
    "\n"
   ]
  },
  {
   "cell_type": "code",
   "execution_count": 34,
   "id": "325401d5",
   "metadata": {},
   "outputs": [
    {
     "name": "stdout",
     "output_type": "stream",
     "text": [
      "par speedup over seq stats:\n",
      " Mean 2.610473356248885, Max 7.780393703159099, Min  0.5319351763584366\n",
      "distr speedup over seq stats:\n",
      " Mean 16.833980325332522, Max 159.78995222684543, Min  0.7480608319405858\n"
     ]
    }
   ],
   "source": [
    "benchmarks = [\"oneliners\", \"unix50\", \"nlp\", \"analytics-mts\", \"dependency_untangling\", \"max-temp\"]\n",
    "modes = [\"distr\", \"par\", \"seq\"]\n",
    "summary_per_mode = get_summary_per_mode(benchmarks, modes)\n",
    "summary_df = pd.concat(summary_per_mode, axis = 1)\n",
    "\n",
    "# summary_df.to_csv(\"benchmarks.csv\")  \n",
    "def print_stats(df, baseline_mode, mode):\n",
    "    speedup_df = pd.DataFrame()\n",
    "    speedup_df['speedup'] = df[baseline_mode]['exec_time']/df[mode]['exec_time']\n",
    "    speedup_df.dropna()\n",
    "    print (f\"{mode} speedup over {baseline_mode} stats:\\n Mean {speedup_df['speedup'].mean()}, Max {speedup_df['speedup'].max()}, Min  {speedup_df['speedup'].min()}\")\n",
    "    \n",
    "print_stats(summary_per_mode, \"seq\", \"par\")\n",
    "# print_stats(summary_per_mode, \"seq\", \"hadoopstreaming\")\n",
    "print_stats(summary_per_mode, \"seq\", \"distr\")"
   ]
  },
  {
   "cell_type": "code",
   "execution_count": 38,
   "id": "ab5867ee",
   "metadata": {},
   "outputs": [
    {
     "name": "stdout",
     "output_type": "stream",
     "text": [
      "Skipping diff.sh:             0.000\n",
      "Skipping bigrams.sh:          0.000\n",
      "Skipping set-diff.sh:         0.000\n",
      "Skipping 3.sh:                0.000\n",
      "Skipping 20.sh:               0.000\n",
      "Skipping 21.sh:               0.000\n",
      "Skipping 22.sh:               0.000\n",
      "Skipping 23.sh:               0.000\n",
      "Skipping 27.sh:               0.000\n",
      "Skipping 34.sh:               0.000\n",
      "original_config/nlp/hadoopstreaming.res not found\n",
      "original_config/analytics-mts/hadoopstreaming.res not found\n"
     ]
    },
    {
     "data": {
      "image/png": "[encoded data removed]",
      "text/plain": [
       "<Figure size 842.4x379.44 with 1 Axes>"
      ]
     },
     "metadata": {},
     "output_type": "display_data"
    }
   ],
   "source": [
    "def boxplot(df, x, y, savefig=None):\n",
    "    sns.boxplot(data=df, x = x, y = y, hue=\"mode\")\n",
    "        \n",
    "    if savefig:\n",
    "        plt.savefig(savefig)\n",
    "        \n",
    "benchmarks = [\"oneliners\", \"unix50\", \"nlp\", \"analytics-mts\"]\n",
    "modes = [\"seq\", 'hadoopstreaming', \"par\", \"distr\"]\n",
    "summary_per_mode = get_summary_per_mode(benchmarks, modes)\n",
    "df = get_speedup_df(summary_per_mode)\n",
    "boxplot(df, x='benchmark', y='speedup', savefig=\"distr_boxplot.pdf\")"
   ]
  },
  {
   "cell_type": "code",
   "execution_count": 39,
   "id": "ea0ac450",
   "metadata": {},
   "outputs": [
    {
     "data": {
      "image/png": "[encoded data removed]",
      "text/plain": [
       "<Figure size 842.4x379.44 with 1 Axes>"
      ]
     },
     "metadata": {},
     "output_type": "display_data"
    }
   ],
   "source": [
    "def speedup_barplot(df, x, y, savefig=None):\n",
    "    sns.barplot(data=df, x=x, y = y, hue=\"mode\")\n",
    "    plt.legend(loc='upper left')\n",
    "    plt.xticks(rotation=45)\n",
    "    plt.tight_layout()\n",
    "    if savefig:\n",
    "        plt.savefig(savefig)\n",
    "        \n",
    "benchmarks = [\"dependency_untangling\", \"max-temp\"]\n",
    "modes = [\"seq\", \"par\", \"distr\"]\n",
    "summary_per_mode = get_summary_per_mode(benchmarks, modes)\n",
    "df = get_speedup_df(summary_per_mode)\n",
    "speedup_barplot(df, 'benchname', 'speedup', \"par_vs_distr_barplot.pdf\")"
   ]
  },
  {
   "cell_type": "code",
   "execution_count": null,
   "id": "1313106e",
   "metadata": {},
   "outputs": [],
   "source": []
  }
 ],
 "metadata": {
  "interpreter": {
   "hash": "31f2aee4e71d21fbe5cf8b01ff0e069b9275f58929596ceb00d14d90e3e16cd6"
  },
  "kernelspec": {
   "display_name": "Python 3",
   "language": "python",
   "name": "python3"
  },
  "language_info": {
   "codemirror_mode": {
    "name": "ipython",
    "version": 3
   },
   "file_extension": ".py",
   "mimetype": "text/x-python",
   "name": "python",
   "nbconvert_exporter": "python",
   "pygments_lexer": "ipython3",
   "version": "3.6.9"
  }
 },
 "nbformat": 4,
 "nbformat_minor": 5
}
