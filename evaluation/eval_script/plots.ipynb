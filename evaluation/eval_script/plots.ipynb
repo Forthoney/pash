{
 "cells": [
  {
   "cell_type": "code",
   "execution_count": 70,
   "id": "5e32e463",
   "metadata": {},
   "outputs": [],
   "source": [
    "import matplotlib.pyplot as plt\n",
    "import numpy as np\n",
    "import pandas as pd\n",
    "import seaborn as sns"
   ]
  },
  {
   "cell_type": "code",
   "execution_count": 87,
   "id": "44741f9e",
   "metadata": {},
   "outputs": [
    {
     "ename": "SyntaxError",
     "evalue": "invalid syntax (<ipython-input-87-01c192b8561b>, line 9)",
     "output_type": "error",
     "traceback": [
      "\u001b[0;36m  File \u001b[0;32m\"<ipython-input-87-01c192b8561b>\"\u001b[0;36m, line \u001b[0;32m9\u001b[0m\n\u001b[0;31m    data.append([script.replace(\".sh\", \"\"), float(time)])\u001b[0m\n\u001b[0m       ^\u001b[0m\n\u001b[0;31mSyntaxError\u001b[0m\u001b[0;31m:\u001b[0m invalid syntax\n"
     ]
    }
   ],
   "source": [
    "def parse_res(file):\n",
    "    with open(file, 'r') as f:\n",
    "        lines = f.read().split(\"\\n\")\n",
    "        \n",
    "    data = []\n",
    "    for line in lines[1:]:\n",
    "        if line:\n",
    "            script, time = list(map(lambda l : l.strip(), line.split(\":\"))\n",
    "            data.append([script.replace(\".sh\", \"\"), float(time)])\n",
    "    \n",
    "    df = pd.DataFrame(data, columns=[\"test_name\", \"exec_time\"])\n",
    "    return df\n",
    "parse_res('eval_results/run1/no_commutativity/oneliners/par.res')"
   ]
  },
  {
   "cell_type": "code",
   "execution_count": 88,
   "id": "9b58f26d",
   "metadata": {},
   "outputs": [],
   "source": [
    "def plot_barchart_against(dfs: list, y_axis=\"exec_time\", test_names=None, title=\"\"):\n",
    "    df1 = dfs[0][1]\n",
    "    if test_names is not None:\n",
    "        df1 = df1[df1[\"test_name\"].isin(test_names)]\n",
    "        labels = sorted(test_names)\n",
    "    else:\n",
    "        labels = sorted(df1.test_name.unique())\n",
    "\n",
    "    x = np.arange(len(labels))  # the label locations\n",
    "    width = 1/(len(dfs))*4/5  # the width of the bars\n",
    "\n",
    "    rects = []\n",
    "    for df_name, df in dfs:\n",
    "        rects.append(df)\n",
    "\n",
    "    bar_height = [[] for i in range(len(rects))]\n",
    "    error_height = [[] for i in range(len(rects))]\n",
    "\n",
    "    for label in labels:\n",
    "        for i, rect in enumerate(rects):\n",
    "            try:\n",
    "                bar_height[i].append(rect.loc[rect[\"test_name\"] == label][y_axis].mean())\n",
    "                error_height[i].append(rect.loc[rect[\"test_name\"] == label][y_axis].std())\n",
    "            except:\n",
    "                print(\"plot_shart_against: failed: \", label)\n",
    "        \n",
    "\n",
    "    fig, ax = plt.subplots(figsize=(20,10))\n",
    "    for i in range(len(dfs)):\n",
    "        label = \"\"\n",
    "        df_name = dfs[i][0]\n",
    "        offset = (i -  int(len(dfs)/2))\n",
    "        if len(dfs)%2 == 0:\n",
    "            offset += 1/2\n",
    "        ax.bar(x + offset*width, bar_height[i], width, yerr=error_height[i], label=label+df_name)\n",
    "\n",
    "    # Add some text for labels, title and custom x-axis tick labels, etc.\n",
    "    ax.set_ylabel('ms')\n",
    "    # ax.set_title('')\n",
    "    ax.set_xticks(x)\n",
    "    ax.set_xticklabels(labels)\n",
    "    plt.xticks(rotation=90)\n",
    "    plt.title(title)\n",
    "    ax.legend()\n",
    "    \n",
    "    plt.show()"
   ]
  },
  {
   "cell_type": "code",
   "execution_count": 94,
   "id": "7fd97f20",
   "metadata": {},
   "outputs": [
    {
     "name": "stdout",
     "output_type": "stream",
     "text": [
      "1.1262466659575634\n"
     ]
    },
    {
     "data": {
      "text/plain": [
       "<AxesSubplot:xlabel='benchmark', ylabel='speedup'>"
      ]
     },
     "execution_count": 94,
     "metadata": {},
     "output_type": "execute_result"
    },
    {
     "data": {
      "image/png": "[encoded data removed]",
      "text/plain": [
       "<Figure size 432x288 with 1 Axes>"
      ]
     },
     "metadata": {
      "needs_background": "light"
     },
     "output_type": "display_data"
    }
   ],
   "source": [
    "benchmarks = [\"oneliners\", \"unix50\", \"analytics-mts\", \"max-temp\"]\n",
    "modes = [\"no_commutativity\", \"with_commutativity\" ]\n",
    "runs = ['1']\n",
    "all_benchs = []\n",
    "for benchmark in benchmarks:\n",
    "    dfs = []\n",
    "    for mode in modes:\n",
    "        df = parse_res(f'eval_results/run1/{mode}/{benchmark}/par.res')\n",
    "        dfs.append((mode.replace(\"_\", \" \"), df))\n",
    "        \n",
    "    all_benchs.append((benchmark, dfs))\n",
    "#     plot_barchart_against(dfs, title=benchmark)\n",
    "\n",
    "\n",
    "speedups=[]\n",
    "for bench, dfs in all_benchs:\n",
    "    new_df = {}\n",
    "    name1, df1 = dfs[0]\n",
    "    name2, df2 = dfs[1]\n",
    "    new_df['test_name'] = df1['test_name']\n",
    "    new_df['speedup'] = df1.exec_time/df2.exec_time \n",
    "    \n",
    "    df = pd.concat(new_df,axis=1)\n",
    "    speedups.append((bench, df))\n",
    "\n",
    "summary = []\n",
    "for bench, df in speedups:\n",
    "    df['benchmark'] = bench\n",
    "    summary.append(df)\n",
    "    \n",
    "summary_df = pd.concat(summary, axis = 0)\n",
    "# sns.legend\n",
    "print(summary_df.speedup.mean())\n",
    "sns.boxplot( data=summary_df, x = 'benchmark', y = 'speedup')\n",
    "\n",
    "# print(all_benchs)"
   ]
  },
  {
   "cell_type": "code",
   "execution_count": null,
   "id": "cca59b1f",
   "metadata": {},
   "outputs": [],
   "source": []
  },
  {
   "cell_type": "code",
   "execution_count": null,
   "id": "051930c2",
   "metadata": {},
   "outputs": [],
   "source": []
  }
 ],
 "metadata": {
  "kernelspec": {
   "display_name": "Python 3",
   "language": "python",
   "name": "python3"
  },
  "language_info": {
   "codemirror_mode": {
    "name": "ipython",
    "version": 3
   },
   "file_extension": ".py",
   "mimetype": "text/x-python",
   "name": "python",
   "nbconvert_exporter": "python",
   "pygments_lexer": "ipython3",
   "version": "3.6.9"
  }
 },
 "nbformat": 4,
 "nbformat_minor": 5
}
